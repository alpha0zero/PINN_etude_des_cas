{
 "cells": [
  {
   "cell_type": "code",
   "execution_count": 1,
   "metadata": {
    "id": "CwGeTv3HgTME"
   },
   "outputs": [],
   "source": [
    "import os\n",
    "os.environ['KMP_DUPLICATE_LIB_OK'] = 'True'\n",
    "import torch\n",
    "import torch.nn as nn\n",
    "import matplotlib.pyplot as plt"
   ]
  },
  {
   "cell_type": "code",
   "execution_count": 2,
   "metadata": {
    "id": "RWOquadwhn_4"
   },
   "outputs": [],
   "source": [
    "class PINN(nn.Module):\n",
    "    def __init__(self, N_INPUT, N_OUTPUT, N_HIDDEN, N_LAYERS):\n",
    "        super().__init__()\n",
    "        activation = nn.Tanh\n",
    "        self.fcs = nn.Sequential(*[\n",
    "                        nn.Linear(N_INPUT, N_HIDDEN),\n",
    "                        activation(),\n",
    "                       ])\n",
    "        self.fch = nn.Sequential(*[\n",
    "                        nn.Sequential(*[\n",
    "                            nn.Linear(N_HIDDEN, N_HIDDEN),\n",
    "                            activation(),\n",
    "                            ]) for _ in range(N_LAYERS-1)])\n",
    "        self.fce = nn.Linear(N_HIDDEN, N_OUTPUT)\n",
    "\n",
    "    def forward(self, x):\n",
    "        x = self.fcs(x)\n",
    "        x = self.fch(x)\n",
    "        x = self.fce(x)\n",
    "        return x"
   ]
  },
  {
   "cell_type": "code",
   "execution_count": 3,
   "metadata": {
    "id": "jMCilmG3gtZh"
   },
   "outputs": [],
   "source": [
    "def plot_nn_results(input_data, output_data, predicted_data, loss=None):\n",
    "    \"\"\"\n",
    "    Fonction pour tracer les résultats d'un réseau neuronal à une seule entrée et une seule sortie.\n",
    "\n",
    "    Arguments :\n",
    "    - input_data : Les données d'entrée\n",
    "    - output_data : Les données de sortie réelles\n",
    "    - predicted_data : Les données de sortie prédites par le réseau neuronal\n",
    "    \"\"\"\n",
    "\n",
    "    # Création d'une figure et un axe\n",
    "    fig, ax = plt.subplots()\n",
    "\n",
    "    # Tracer les données réelles\n",
    "    ax.plot(input_data, output_data, 'b', label='Réel')\n",
    "\n",
    "    # Tracer les données prédites\n",
    "    ax.plot(input_data, predicted_data, 'r', label='Prédiction')\n",
    "\n",
    "    if loss:\n",
    "      ax.set_title(f'Loss = {loss}')\n",
    "\n",
    "    # Ajout d'une légende\n",
    "    ax.legend()\n",
    "\n",
    "    # Ajout des titres aux axes\n",
    "    ax.set_xlabel('x')\n",
    "    ax.set_ylabel('u')\n",
    "\n",
    "    # Affichage du graphique\n",
    "    plt.show()"
   ]
  },
  {
   "cell_type": "code",
   "execution_count": 4,
   "metadata": {
    "id": "Xn_eV6y5gxhm"
   },
   "outputs": [],
   "source": [
    "def solution_exact(E, I, L, p, x):\n",
    "    \"\"\"\n",
    "    Fonction pour calculer une solution exacte à l'équation donnée.\n",
    "\n",
    "    Arguments :\n",
    "    - E : Valeur du module de young E\n",
    "    - A : Valeur de la section A\n",
    "    - I : Moment quadratique\n",
    "    - p : Valeur de la force\n",
    "    - x : Valeur des entrées x\n",
    "\n",
    "    Retour :\n",
    "    - y : Valeur de la solution exacte de l'équation\n",
    "    \"\"\"\n",
    "\n",
    "    # Calculer la valeur de la solution exacte\n",
    "    y = p*(-x**4 + 2.5*L*(x**3) - (3/2)*L**2*x**2) / (24 * E * I)\n",
    "\n",
    "    # Retourner la valeur de la solution\n",
    "    return y\n"
   ]
  },
  {
   "cell_type": "code",
   "execution_count": null,
   "metadata": {
    "colab": {
     "base_uri": "https://localhost:8080/",
     "height": 430
    },
    "id": "0SqR-XV6hQgo",
    "outputId": "38de2809-d1a1-4999-919e-1130ccac825b"
   },
   "outputs": [],
   "source": [
    "L = 2.7 # longueur de la barre\n",
    "x_data = torch.linspace(0, L, 500).view(-1,1)\n",
    "y_data = solution_exact(200e9,0.000038929334,L,60e3, x_data)\n",
    "x = x_data.detach()\n",
    "y = y_data.detach()\n",
    "plt.plot(x, y, label=\"Solution exacte\")\n",
    "plt.legend()\n",
    "plt.show()"
   ]
  },
  {
   "cell_type": "code",
   "execution_count": null,
   "metadata": {
    "colab": {
     "base_uri": "https://localhost:8080/",
     "height": 1000
    },
    "id": "0-mu6aBhiWF7",
    "outputId": "a9bac8a0-3e9a-45da-e68b-193a16d9736b"
   },
   "outputs": [],
   "source": [
    "import time\n",
    "# Définir les valeurs des coefficients\n",
    "E, I, L, p = 200e9, 0.000038929334, 2.7, 60e3\n",
    "\n",
    "# Définir les emplacements d'échantillonnage sur le domaine du problème\n",
    "x_physics = torch.linspace(0, L, 500).view(-1, 1).requires_grad_(True)\n",
    "x_0 = torch.tensor(0.).view(-1,1).requires_grad_(True)\n",
    "x_L = torch.tensor(L).view(-1,1).requires_grad_(True)\n",
    "\n",
    "# Fixer la graine aléatoire pour la reproductibilité\n",
    "torch.manual_seed(123)\n",
    "\n",
    "# Créer une instance du modèle PINN avec les paramètres donnés\n",
    "model = PINN(1, 1, 20, 1)\n",
    "\n",
    "# Définir l'optimiseur avec Adam et le taux d'apprentissage de 1e-4\n",
    "optimizer = torch.optim.Adam(model.parameters(), lr=1e-4)\n",
    "\n",
    "# Enregistrement du temps de départ\n",
    "temps_debut = time.time()\n",
    "# Boucle d'entraînement\n",
    "for i in range(15000):\n",
    "    # Réinitialiser les gradients à zéro\n",
    "    optimizer.zero_grad()\n",
    "\n",
    "    yh = model(x_data)\n",
    "\n",
    "    # Calculer la \"perte de physique\"\n",
    "    yhp = model(x_physics)\n",
    "    dudx = torch.autograd.grad(yhp, x_physics, torch.ones_like(yhp), create_graph=True)[0]  # calculer dy/dx\n",
    "    d2udx2 = torch.autograd.grad(dudx, x_physics, torch.ones_like(dudx), create_graph=True)[0]  # calculer d2y/dx2\n",
    "    d3udx3 = torch.autograd.grad(d2udx2, x_physics, torch.ones_like(d2udx2), create_graph=True)[0]  # calculer d3y/dx3\n",
    "    d4udx4 = torch.autograd.grad(d3udx3, x_physics, torch.ones_like(d3udx3), create_graph=True)[0]  # calculer d4y/dx4\n",
    "\n",
    "\n",
    "    residus = d4udx4 + p/(E*I)   # calculer le résidu de l'équation différentielle\n",
    "    loss2 = torch.mean(residus ** 2)\n",
    "\n",
    "    # L'erreur au limites\n",
    "    u_0 = model(x_0)\n",
    "    du0dx = torch.autograd.grad(u_0, x_0, torch.ones_like(u_0), create_graph=True)[0]\n",
    "    d2u0dx2 = torch.autograd.grad(du0dx, x_0, torch.ones_like(du0dx), create_graph=True)[0]\n",
    "\n",
    "\n",
    "    loss3 = torch.squeeze(u_0**2) + torch.squeeze(du0dx**2)\n",
    "\n",
    "    u_L = model(x_L)\n",
    "    duLdx = torch.autograd.grad(u_L, x_L, torch.ones_like(u_L), create_graph=True)[0]\n",
    "    d2uLdx2 = torch.autograd.grad(duLdx, x_L, torch.ones_like(duLdx), create_graph=True)[0]\n",
    "    d3uLdx3 = torch.autograd.grad(d2uLdx2, x_L, torch.ones_like(d2uLdx2), create_graph=True)[0]\n",
    "    loss4 = torch.squeeze(d2uLdx2**2) + torch.squeeze(u_L**2)\n",
    "\n",
    "\n",
    "    # Rétropropagation pour calculer les gradients\n",
    "    loss = loss2 + loss3 + loss4 # ajouter les trois termes de perte ensemble\n",
    "    \n",
    "    loss.backward()\n",
    "\n",
    "    # Mettre à jour les poids du modèle en utilisant l'optimiseur\n",
    "    optimizer.step()\n",
    "\n",
    "    # Afficher le graphique des résultats pendant l'entraînement\n",
    "    if (i + 1) % 150 == 0:\n",
    "        # Détacher les prédictions yh du graphe de calcul\n",
    "        yh = model(x).detach()\n",
    "        xp = x_physics.detach()\n",
    "\n",
    "        # Tracer les résultats du modèle\n",
    "        plot_nn_results(x_data, y_data, yh, loss)\n",
    "# Enregistrement du temps de fin\n",
    "temps_fin = time.time()\n",
    "\n",
    "# Calculez le temps écoulé\n",
    "temps_ecoule = temps_fin - temps_debut\n"
   ]
  },
  {
   "cell_type": "code",
   "execution_count": null,
   "metadata": {},
   "outputs": [],
   "source": [
    "params = model.named_parameters()\n",
    "for param_name,param in params:\n",
    "    print(f\"name: {param_name}\\nvalue: {param}\")"
   ]
  }
 ],
 "metadata": {
  "colab": {
   "provenance": []
  },
  "kernelspec": {
   "display_name": "Python 3 (ipykernel)",
   "language": "python",
   "name": "python3"
  },
  "language_info": {
   "codemirror_mode": {
    "name": "ipython",
    "version": 3
   },
   "file_extension": ".py",
   "mimetype": "text/x-python",
   "name": "python",
   "nbconvert_exporter": "python",
   "pygments_lexer": "ipython3",
   "version": "3.10.9"
  }
 },
 "nbformat": 4,
 "nbformat_minor": 1
}
